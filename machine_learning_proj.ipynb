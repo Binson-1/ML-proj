{
  "nbformat": 4,
  "nbformat_minor": 0,
  "metadata": {
    "colab": {
      "name": "machine_learning-proj",
      "provenance": [],
      "collapsed_sections": [],
      "authorship_tag": "ABX9TyOk0D1wgjmP19CLFkW5G35I",
      "include_colab_link": true
    },
    "kernelspec": {
      "name": "python3",
      "display_name": "Python 3"
    }
  },
  "cells": [
    {
      "cell_type": "markdown",
      "metadata": {
        "id": "view-in-github",
        "colab_type": "text"
      },
      "source": [
        "<a href=\"https://colab.research.google.com/github/Binson-1/ML-proj/blob/master/machine_learning_proj.ipynb\" target=\"_parent\"><img src=\"https://colab.research.google.com/assets/colab-badge.svg\" alt=\"Open In Colab\"/></a>"
      ]
    },
    {
      "cell_type": "markdown",
      "metadata": {
        "id": "ZJrdTbvk4TAj",
        "colab_type": "text"
      },
      "source": [
        "1. Importing Libraries"
      ]
    },
    {
      "cell_type": "code",
      "metadata": {
        "id": "FylTnXZxLWkW",
        "colab_type": "code",
        "colab": {}
      },
      "source": [
        "import pandas as pd\n",
        "import numpy as np\n",
        "import seaborn as sns\n",
        "import matplotlib.pyplot as plt\n",
        "%matplotlib inline"
      ],
      "execution_count": null,
      "outputs": []
    },
    {
      "cell_type": "code",
      "metadata": {
        "id": "vnZVYstVOLS2",
        "colab_type": "code",
        "colab": {}
      },
      "source": [
        "from google.colab import files \n",
        "\n",
        "\n",
        "uploaded = files.upload()\n"
      ],
      "execution_count": null,
      "outputs": []
    },
    {
      "cell_type": "markdown",
      "metadata": {
        "id": "FcPanUYH4fr4",
        "colab_type": "text"
      },
      "source": [
        "1. Loading Data into Data Frame"
      ]
    },
    {
      "cell_type": "code",
      "metadata": {
        "id": "CiqXT4dLMh8A",
        "colab_type": "code",
        "colab": {}
      },
      "source": [
        "import io\n",
        "df = pd.read_csv(io.BytesIO(uploaded['data.csv']))"
      ],
      "execution_count": null,
      "outputs": []
    },
    {
      "cell_type": "code",
      "metadata": {
        "id": "Xj9j41SOOvzE",
        "colab_type": "code",
        "colab": {}
      },
      "source": [
        "df.head()"
      ],
      "execution_count": null,
      "outputs": []
    },
    {
      "cell_type": "code",
      "metadata": {
        "id": "33LpDWigO3qL",
        "colab_type": "code",
        "colab": {}
      },
      "source": [
        "df.tail()"
      ],
      "execution_count": null,
      "outputs": []
    },
    {
      "cell_type": "markdown",
      "metadata": {
        "id": "d8I9Ef-U5dq9",
        "colab_type": "text"
      },
      "source": [
        "1. Checking types of data and basic summary stats"
      ]
    },
    {
      "cell_type": "code",
      "metadata": {
        "id": "7pIOqo2qPInh",
        "colab_type": "code",
        "colab": {}
      },
      "source": [
        "df.info()"
      ],
      "execution_count": null,
      "outputs": []
    },
    {
      "cell_type": "code",
      "metadata": {
        "id": "ieTcIJQ4jiyQ",
        "colab_type": "code",
        "colab": {}
      },
      "source": [
        "df.describe()"
      ],
      "execution_count": null,
      "outputs": []
    },
    {
      "cell_type": "code",
      "metadata": {
        "id": "0mRhKq3YmbPz",
        "colab_type": "code",
        "colab": {}
      },
      "source": [
        "df.shape"
      ],
      "execution_count": null,
      "outputs": []
    },
    {
      "cell_type": "markdown",
      "metadata": {
        "id": "Fv8n7pSS5uW6",
        "colab_type": "text"
      },
      "source": [
        "2. Dropping irrelevent columns"
      ]
    },
    {
      "cell_type": "code",
      "metadata": {
        "id": "NnXfIlM4lUhw",
        "colab_type": "code",
        "colab": {}
      },
      "source": [
        "#Dropping columns since it is less used or no effect on price\n",
        "df = df.drop(['Engine Fuel Type','Number of Doors','Market Category'],axis = 1)\n",
        "df.head()"
      ],
      "execution_count": null,
      "outputs": []
    },
    {
      "cell_type": "markdown",
      "metadata": {
        "id": "S2ESB_ZM6FV3",
        "colab_type": "text"
      },
      "source": [
        "3. Renaming the columns"
      ]
    },
    {
      "cell_type": "code",
      "metadata": {
        "id": "mIaTHXqFrFxQ",
        "colab_type": "code",
        "colab": {}
      },
      "source": [
        "df = df.rename(columns = {\"Engine HP\": \"HP\", \"Engine Cylinders\": \"Cylinders\", \"Transmission Type\": \"Transmission\", \"Driven_Wheels\": \"Drive Mode\",\"highway MPG\": \"MPG-H\", \"city mpg\": \"MPG-C\", \"MSRP\": \"Price\"})\n",
        "df.head()"
      ],
      "execution_count": null,
      "outputs": []
    },
    {
      "cell_type": "markdown",
      "metadata": {
        "id": "uTVMJlGH6Ozg",
        "colab_type": "text"
      },
      "source": [
        "4. Dropping the duplicate rows"
      ]
    },
    {
      "cell_type": "code",
      "metadata": {
        "id": "VVqtmd2dwjRh",
        "colab_type": "code",
        "colab": {}
      },
      "source": [
        "duplicate_rows_df = df[df.duplicated()]\n",
        "print(\"No. of duplicate rows:\",duplicate_rows_df.shape)"
      ],
      "execution_count": null,
      "outputs": []
    },
    {
      "cell_type": "code",
      "metadata": {
        "id": "BN_wLdGoxeWa",
        "colab_type": "code",
        "colab": {}
      },
      "source": [
        "df = df.drop_duplicates()\n",
        "df.head()"
      ],
      "execution_count": null,
      "outputs": []
    },
    {
      "cell_type": "code",
      "metadata": {
        "id": "fdZUVeBhyALm",
        "colab_type": "code",
        "colab": {}
      },
      "source": [
        "df.shape"
      ],
      "execution_count": null,
      "outputs": []
    },
    {
      "cell_type": "code",
      "metadata": {
        "id": "Vt_VKoTvypHw",
        "colab_type": "code",
        "colab": {}
      },
      "source": [
        "df.count()"
      ],
      "execution_count": null,
      "outputs": []
    },
    {
      "cell_type": "markdown",
      "metadata": {
        "id": "flzYpeFL6gsI",
        "colab_type": "text"
      },
      "source": [
        "4. Dropping the missing/null values"
      ]
    },
    {
      "cell_type": "code",
      "metadata": {
        "id": "4VgFPoxMyGF2",
        "colab_type": "code",
        "colab": {}
      },
      "source": [
        "print(df.isnull().sum())"
      ],
      "execution_count": null,
      "outputs": []
    },
    {
      "cell_type": "code",
      "metadata": {
        "id": "_2TOt76EyheC",
        "colab_type": "code",
        "colab": {}
      },
      "source": [
        "df = df.dropna()\n",
        "df.count()"
      ],
      "execution_count": null,
      "outputs": []
    },
    {
      "cell_type": "markdown",
      "metadata": {
        "id": "WK25YLZi6s9V",
        "colab_type": "text"
      },
      "source": [
        "5. Detecting Outliers"
      ]
    },
    {
      "cell_type": "code",
      "metadata": {
        "id": "ESgbvJcBu8Mk",
        "colab_type": "code",
        "colab": {}
      },
      "source": [
        "sns.boxplot(x=df['Price'])"
      ],
      "execution_count": null,
      "outputs": []
    },
    {
      "cell_type": "code",
      "metadata": {
        "id": "1L8n6Zq7wFPU",
        "colab_type": "code",
        "colab": {}
      },
      "source": [
        "sns.boxplot(x=df['HP'])"
      ],
      "execution_count": null,
      "outputs": []
    },
    {
      "cell_type": "code",
      "metadata": {
        "id": "2Lfon5SOwZR9",
        "colab_type": "code",
        "colab": {}
      },
      "source": [
        "sns.boxplot(x=df['Cylinders'])"
      ],
      "execution_count": null,
      "outputs": []
    },
    {
      "cell_type": "markdown",
      "metadata": {
        "id": "auus-NrYPbee",
        "colab_type": "text"
      },
      "source": [
        "5. Removing Outliers"
      ]
    },
    {
      "cell_type": "code",
      "metadata": {
        "id": "qRfTZi4FwfhX",
        "colab_type": "code",
        "colab": {}
      },
      "source": [
        "q1 = df.quantile(0.25)\n",
        "q3 = df.quantile(0.75)\n",
        "IQR = q3 - q1\n",
        "print(IQR)"
      ],
      "execution_count": null,
      "outputs": []
    },
    {
      "cell_type": "code",
      "metadata": {
        "id": "Wfa4LLxPxPOr",
        "colab_type": "code",
        "colab": {}
      },
      "source": [
        "df = df[~((df < (q1 - 1.5 * IQR)) | (df > (q3 + 1.5 * IQR))).any(axis = 1)]\n",
        "df.shape"
      ],
      "execution_count": null,
      "outputs": []
    },
    {
      "cell_type": "markdown",
      "metadata": {
        "id": "FUKivfoH63rm",
        "colab_type": "text"
      },
      "source": [
        "6. Top Car Brands"
      ]
    },
    {
      "cell_type": "code",
      "metadata": {
        "id": "b3TsuGx7y9Oh",
        "colab_type": "code",
        "colab": {}
      },
      "source": [
        "#percentage-cars/brand\n",
        "counts = df['Make'].value_counts() * 100 / sum(df['Make'].value_counts())\n",
        "#top 10\n",
        "pop=counts.index[:10]\n",
        "#graph\n",
        "plt.figure(figsize=(10,5))\n",
        "plt.barh(pop,width = counts[:10])\n",
        "plt.title('Top 10 Brands')\n",
        "plt.show()"
      ],
      "execution_count": null,
      "outputs": []
    },
    {
      "cell_type": "markdown",
      "metadata": {
        "id": "VD8r3o2A7GxW",
        "colab_type": "text"
      },
      "source": [
        "6. Finding Average Prices"
      ]
    },
    {
      "cell_type": "code",
      "metadata": {
        "id": "B3UbckFx04rR",
        "colab_type": "code",
        "colab": {}
      },
      "source": [
        "prices = df[['Make','Price']].loc[(df['Make'] == 'Chevrolet') | (df['Make'] == 'Ford') | (df['Make'] == 'Volkswagen') | (df['Make'] == 'Toyota') | (df['Make'] == 'Dodge') | (df['Make'] == 'Nissan') | (df['Make'] == 'GMC') | (df['Make'] == 'Honda') | (df['Make'] == 'Mazda')].groupby('Make').mean()\n",
        "print(prices)"
      ],
      "execution_count": null,
      "outputs": []
    },
    {
      "cell_type": "markdown",
      "metadata": {
        "id": "CIT3nlg17SSw",
        "colab_type": "text"
      },
      "source": [
        "7. Correlation Matrix"
      ]
    },
    {
      "cell_type": "code",
      "metadata": {
        "id": "wpJrCJgw2Zns",
        "colab_type": "code",
        "colab": {}
      },
      "source": [
        "df.corr()"
      ],
      "execution_count": null,
      "outputs": []
    },
    {
      "cell_type": "code",
      "metadata": {
        "id": "JMmW-Z0225xb",
        "colab_type": "code",
        "colab": {}
      },
      "source": [
        "#High correlation between 1.Cylinders & HP 2.Highway mpg & City mpg\n",
        "#High anti correlation between Cylinders and Highway mpg\n",
        "plt.figure(figsize = (10,5))\n",
        "c = df.corr()\n",
        "sns.heatmap(c,cmap = \"BrBG\",annot = True)"
      ],
      "execution_count": null,
      "outputs": []
    },
    {
      "cell_type": "markdown",
      "metadata": {
        "id": "z-trK491Q_Nt",
        "colab_type": "text"
      },
      "source": [
        "8. Scatterplot"
      ]
    },
    {
      "cell_type": "code",
      "metadata": {
        "id": "T7fm0e2fRCZ3",
        "colab_type": "code",
        "colab": {}
      },
      "source": [
        "fig,ax = plt.subplots(figsize = (10,6))\n",
        "ax.scatter(df['HP'],df['Price'])\n",
        "ax.set_xlabel('HP')\n",
        "ax.set_ylabel('Price')\n",
        "plt.show"
      ],
      "execution_count": null,
      "outputs": []
    },
    {
      "cell_type": "markdown",
      "metadata": {
        "id": "vq_XGt9rSaXC",
        "colab_type": "text"
      },
      "source": [
        "Which vehicle style segment is mostly sold"
      ]
    },
    {
      "cell_type": "code",
      "metadata": {
        "id": "-BSP5lAySRzY",
        "colab_type": "code",
        "colab": {}
      },
      "source": [
        "df['Vehicle Style'].value_counts().plot.bar(figsize = (10,6))\n",
        "plt.title(\"Cars sold by body\")\n",
        "plt.ylabel('No. of vehicles')\n",
        "plt.xlabel('Body type')"
      ],
      "execution_count": null,
      "outputs": []
    },
    {
      "cell_type": "code",
      "metadata": {
        "id": "P5OzK1XkTakz",
        "colab_type": "code",
        "colab": {}
      },
      "source": [
        "#Vehicle Style type and Drive type analysis\n",
        "sns.countplot(y = 'Vehicle Style',data = df,hue = 'Drive Mode')\n",
        "plt.title(\"Vehicle type v/s Drive mode type\")\n",
        "plt.ylabel('Vehicle type')\n",
        "plt.xlabel('Count of vehicles')"
      ],
      "execution_count": null,
      "outputs": []
    },
    {
      "cell_type": "markdown",
      "metadata": {
        "id": "wblXkRLUU0tp",
        "colab_type": "text"
      },
      "source": [
        "Making new group \"Price_group\""
      ]
    },
    {
      "cell_type": "code",
      "metadata": {
        "id": "QYiFmgc0Uwz8",
        "colab_type": "code",
        "colab": {}
      },
      "source": [
        "#Creating new column 'Price_group' and assign value based on ar price\n",
        "df['price_group'] = pd.cut(df['Price'],[0,20000,40000,60000,80000,100000,600000],labels = ['<20K','20-39K','40-59K','60-79K','80-99K','>100k'],include_lowest = True)\n",
        "df['price_group'] = df['price_group'].astype(object)"
      ],
      "execution_count": null,
      "outputs": []
    },
    {
      "cell_type": "code",
      "metadata": {
        "id": "2UQgAxOlWHoj",
        "colab_type": "code",
        "colab": {}
      },
      "source": [
        "(df['price_group'].value_counts() / len(df) * 100).plot.bar(figsize = (10,6))\n",
        "plt.title(\"Price Group bar diagram\")\n",
        "plt.ylabel('% of vehicles')\n",
        "plt.xlabel('Price Group')"
      ],
      "execution_count": null,
      "outputs": []
    },
    {
      "cell_type": "markdown",
      "metadata": {
        "id": "FIFXXCZSNL_q",
        "colab_type": "text"
      },
      "source": [
        "9. ML Model"
      ]
    },
    {
      "cell_type": "code",
      "metadata": {
        "id": "fRuzruNdNKGF",
        "colab_type": "code",
        "colab": {}
      },
      "source": [
        "X = df[['Popularity','Year','HP','Cylinders','MPG-H','MPG-C']].values\n",
        "y = df['Price'].values"
      ],
      "execution_count": null,
      "outputs": []
    },
    {
      "cell_type": "code",
      "metadata": {
        "id": "U0wQ7J5pOJol",
        "colab_type": "code",
        "colab": {}
      },
      "source": [
        "#Feature Scaling\n",
        "from sklearn.preprocessing import StandardScaler\n",
        "sc_X = StandardScaler()\n",
        "sc_y = StandardScaler()\n",
        "X = sc_X.fit_transform(X)\n",
        "y = sc_y.fit_transform(y.reshape(-1,1))"
      ],
      "execution_count": null,
      "outputs": []
    },
    {
      "cell_type": "code",
      "metadata": {
        "id": "zAa2imslO2hp",
        "colab_type": "code",
        "colab": {}
      },
      "source": [
        "#splitting dataset-trainingset,test set\n",
        "from sklearn.model_selection import train_test_split\n",
        "X_train, X_test, y_train, y_test = train_test_split(X,y,test_size = 0.2,random_state = 0)"
      ],
      "execution_count": null,
      "outputs": []
    },
    {
      "cell_type": "code",
      "metadata": {
        "id": "Web4G7uRP0yd",
        "colab_type": "code",
        "colab": {}
      },
      "source": [
        "#fitting multiple linear regression to training set\n",
        "from sklearn.linear_model import LinearRegression\n",
        "regressor = LinearRegression()\n",
        "regressor.fit(X_train,y_train)"
      ],
      "execution_count": null,
      "outputs": []
    },
    {
      "cell_type": "code",
      "metadata": {
        "id": "9PORx39wQWm1",
        "colab_type": "code",
        "colab": {}
      },
      "source": [
        "#predicting test results\n",
        "y_pred = regressor.predict(X_test)\n",
        "plt.scatter(y_test,y_pred)"
      ],
      "execution_count": null,
      "outputs": []
    },
    {
      "cell_type": "code",
      "metadata": {
        "id": "WXfv1-81Sz7d",
        "colab_type": "code",
        "colab": {}
      },
      "source": [
        "sns.distplot((y_test-y_pred),bins = 50)"
      ],
      "execution_count": null,
      "outputs": []
    }
  ]
}